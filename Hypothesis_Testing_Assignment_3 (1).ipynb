{
 "cells": [
  {
   "cell_type": "raw",
   "id": "fafbf1c2",
   "metadata": {},
   "source": [
    " Question1:)\n",
    "A F&B manager wants to determine whether there is any significant difference in the diameter of the cutlet between two units. A randomly selected sample of cutlets was collected from both units and measured? Analyze the data and draw inferences at 5% significance level. Please state the assumptions and tests that you carried out to check validity of the assumptions"
   ]
  },
  {
   "cell_type": "raw",
   "id": "e88e43d3",
   "metadata": {},
   "source": [
    "H0: there is no difference in diameters of cutlets between two units\n",
    "H1: there is signigicant difference in dimeters of cutlets between two units"
   ]
  },
  {
   "cell_type": "code",
   "execution_count": 120,
   "id": "8b04f389",
   "metadata": {
    "ExecuteTime": {
     "end_time": "2023-07-09T15:51:02.659126Z",
     "start_time": "2023-07-09T15:51:02.652119Z"
    }
   },
   "outputs": [],
   "source": [
    "import pandas as pd\n",
    "import numpy as np\n",
    "from scipy import stats\n",
    "from scipy.stats import norm"
   ]
  },
  {
   "cell_type": "code",
   "execution_count": 121,
   "id": "75fe85fb",
   "metadata": {
    "ExecuteTime": {
     "end_time": "2023-07-09T15:51:03.447902Z",
     "start_time": "2023-07-09T15:51:03.437903Z"
    }
   },
   "outputs": [],
   "source": [
    "df=pd.read_csv(\"Cutlets.csv\")"
   ]
  },
  {
   "cell_type": "code",
   "execution_count": 122,
   "id": "5ae49ca6",
   "metadata": {
    "ExecuteTime": {
     "end_time": "2023-07-09T15:51:04.322094Z",
     "start_time": "2023-07-09T15:51:04.300097Z"
    }
   },
   "outputs": [
    {
     "data": {
      "text/html": [
       "<div>\n",
       "<style scoped>\n",
       "    .dataframe tbody tr th:only-of-type {\n",
       "        vertical-align: middle;\n",
       "    }\n",
       "\n",
       "    .dataframe tbody tr th {\n",
       "        vertical-align: top;\n",
       "    }\n",
       "\n",
       "    .dataframe thead th {\n",
       "        text-align: right;\n",
       "    }\n",
       "</style>\n",
       "<table border=\"1\" class=\"dataframe\">\n",
       "  <thead>\n",
       "    <tr style=\"text-align: right;\">\n",
       "      <th></th>\n",
       "      <th>Unit A</th>\n",
       "      <th>Unit B</th>\n",
       "    </tr>\n",
       "  </thead>\n",
       "  <tbody>\n",
       "    <tr>\n",
       "      <th>0</th>\n",
       "      <td>6.8090</td>\n",
       "      <td>6.7703</td>\n",
       "    </tr>\n",
       "    <tr>\n",
       "      <th>1</th>\n",
       "      <td>6.4376</td>\n",
       "      <td>7.5093</td>\n",
       "    </tr>\n",
       "    <tr>\n",
       "      <th>2</th>\n",
       "      <td>6.9157</td>\n",
       "      <td>6.7300</td>\n",
       "    </tr>\n",
       "    <tr>\n",
       "      <th>3</th>\n",
       "      <td>7.3012</td>\n",
       "      <td>6.7878</td>\n",
       "    </tr>\n",
       "    <tr>\n",
       "      <th>4</th>\n",
       "      <td>7.4488</td>\n",
       "      <td>7.1522</td>\n",
       "    </tr>\n",
       "    <tr>\n",
       "      <th>5</th>\n",
       "      <td>7.3871</td>\n",
       "      <td>6.8110</td>\n",
       "    </tr>\n",
       "    <tr>\n",
       "      <th>6</th>\n",
       "      <td>6.8755</td>\n",
       "      <td>7.2212</td>\n",
       "    </tr>\n",
       "    <tr>\n",
       "      <th>7</th>\n",
       "      <td>7.0621</td>\n",
       "      <td>6.6606</td>\n",
       "    </tr>\n",
       "    <tr>\n",
       "      <th>8</th>\n",
       "      <td>6.6840</td>\n",
       "      <td>7.2402</td>\n",
       "    </tr>\n",
       "    <tr>\n",
       "      <th>9</th>\n",
       "      <td>6.8236</td>\n",
       "      <td>7.0503</td>\n",
       "    </tr>\n",
       "    <tr>\n",
       "      <th>10</th>\n",
       "      <td>7.3930</td>\n",
       "      <td>6.8810</td>\n",
       "    </tr>\n",
       "    <tr>\n",
       "      <th>11</th>\n",
       "      <td>7.5169</td>\n",
       "      <td>7.4059</td>\n",
       "    </tr>\n",
       "    <tr>\n",
       "      <th>12</th>\n",
       "      <td>6.9246</td>\n",
       "      <td>6.7652</td>\n",
       "    </tr>\n",
       "    <tr>\n",
       "      <th>13</th>\n",
       "      <td>6.9256</td>\n",
       "      <td>6.0380</td>\n",
       "    </tr>\n",
       "    <tr>\n",
       "      <th>14</th>\n",
       "      <td>6.5797</td>\n",
       "      <td>7.1581</td>\n",
       "    </tr>\n",
       "    <tr>\n",
       "      <th>15</th>\n",
       "      <td>6.8394</td>\n",
       "      <td>7.0240</td>\n",
       "    </tr>\n",
       "    <tr>\n",
       "      <th>16</th>\n",
       "      <td>6.5970</td>\n",
       "      <td>6.6672</td>\n",
       "    </tr>\n",
       "    <tr>\n",
       "      <th>17</th>\n",
       "      <td>7.2705</td>\n",
       "      <td>7.4314</td>\n",
       "    </tr>\n",
       "    <tr>\n",
       "      <th>18</th>\n",
       "      <td>7.2828</td>\n",
       "      <td>7.3070</td>\n",
       "    </tr>\n",
       "    <tr>\n",
       "      <th>19</th>\n",
       "      <td>7.3495</td>\n",
       "      <td>6.7478</td>\n",
       "    </tr>\n",
       "    <tr>\n",
       "      <th>20</th>\n",
       "      <td>6.9438</td>\n",
       "      <td>6.8889</td>\n",
       "    </tr>\n",
       "    <tr>\n",
       "      <th>21</th>\n",
       "      <td>7.1560</td>\n",
       "      <td>7.4220</td>\n",
       "    </tr>\n",
       "    <tr>\n",
       "      <th>22</th>\n",
       "      <td>6.5341</td>\n",
       "      <td>6.5217</td>\n",
       "    </tr>\n",
       "    <tr>\n",
       "      <th>23</th>\n",
       "      <td>7.2854</td>\n",
       "      <td>7.1688</td>\n",
       "    </tr>\n",
       "    <tr>\n",
       "      <th>24</th>\n",
       "      <td>6.9952</td>\n",
       "      <td>6.7594</td>\n",
       "    </tr>\n",
       "    <tr>\n",
       "      <th>25</th>\n",
       "      <td>6.8568</td>\n",
       "      <td>6.9399</td>\n",
       "    </tr>\n",
       "    <tr>\n",
       "      <th>26</th>\n",
       "      <td>7.2163</td>\n",
       "      <td>7.0133</td>\n",
       "    </tr>\n",
       "    <tr>\n",
       "      <th>27</th>\n",
       "      <td>6.6801</td>\n",
       "      <td>6.9182</td>\n",
       "    </tr>\n",
       "    <tr>\n",
       "      <th>28</th>\n",
       "      <td>6.9431</td>\n",
       "      <td>6.3346</td>\n",
       "    </tr>\n",
       "    <tr>\n",
       "      <th>29</th>\n",
       "      <td>7.0852</td>\n",
       "      <td>7.5459</td>\n",
       "    </tr>\n",
       "    <tr>\n",
       "      <th>30</th>\n",
       "      <td>6.7794</td>\n",
       "      <td>7.0992</td>\n",
       "    </tr>\n",
       "    <tr>\n",
       "      <th>31</th>\n",
       "      <td>7.2783</td>\n",
       "      <td>7.1180</td>\n",
       "    </tr>\n",
       "    <tr>\n",
       "      <th>32</th>\n",
       "      <td>7.1561</td>\n",
       "      <td>6.6965</td>\n",
       "    </tr>\n",
       "    <tr>\n",
       "      <th>33</th>\n",
       "      <td>7.3943</td>\n",
       "      <td>6.5780</td>\n",
       "    </tr>\n",
       "    <tr>\n",
       "      <th>34</th>\n",
       "      <td>6.9405</td>\n",
       "      <td>7.3875</td>\n",
       "    </tr>\n",
       "  </tbody>\n",
       "</table>\n",
       "</div>"
      ],
      "text/plain": [
       "    Unit A  Unit B\n",
       "0   6.8090  6.7703\n",
       "1   6.4376  7.5093\n",
       "2   6.9157  6.7300\n",
       "3   7.3012  6.7878\n",
       "4   7.4488  7.1522\n",
       "5   7.3871  6.8110\n",
       "6   6.8755  7.2212\n",
       "7   7.0621  6.6606\n",
       "8   6.6840  7.2402\n",
       "9   6.8236  7.0503\n",
       "10  7.3930  6.8810\n",
       "11  7.5169  7.4059\n",
       "12  6.9246  6.7652\n",
       "13  6.9256  6.0380\n",
       "14  6.5797  7.1581\n",
       "15  6.8394  7.0240\n",
       "16  6.5970  6.6672\n",
       "17  7.2705  7.4314\n",
       "18  7.2828  7.3070\n",
       "19  7.3495  6.7478\n",
       "20  6.9438  6.8889\n",
       "21  7.1560  7.4220\n",
       "22  6.5341  6.5217\n",
       "23  7.2854  7.1688\n",
       "24  6.9952  6.7594\n",
       "25  6.8568  6.9399\n",
       "26  7.2163  7.0133\n",
       "27  6.6801  6.9182\n",
       "28  6.9431  6.3346\n",
       "29  7.0852  7.5459\n",
       "30  6.7794  7.0992\n",
       "31  7.2783  7.1180\n",
       "32  7.1561  6.6965\n",
       "33  7.3943  6.5780\n",
       "34  6.9405  7.3875"
      ]
     },
     "execution_count": 122,
     "metadata": {},
     "output_type": "execute_result"
    }
   ],
   "source": [
    "df"
   ]
  },
  {
   "cell_type": "code",
   "execution_count": 123,
   "id": "edb7e8bf",
   "metadata": {
    "ExecuteTime": {
     "end_time": "2023-07-09T15:51:05.065767Z",
     "start_time": "2023-07-09T15:51:05.056662Z"
    }
   },
   "outputs": [
    {
     "data": {
      "text/plain": [
       "0     6.8090\n",
       "1     6.4376\n",
       "2     6.9157\n",
       "3     7.3012\n",
       "4     7.4488\n",
       "5     7.3871\n",
       "6     6.8755\n",
       "7     7.0621\n",
       "8     6.6840\n",
       "9     6.8236\n",
       "10    7.3930\n",
       "11    7.5169\n",
       "12    6.9246\n",
       "13    6.9256\n",
       "14    6.5797\n",
       "15    6.8394\n",
       "16    6.5970\n",
       "17    7.2705\n",
       "18    7.2828\n",
       "19    7.3495\n",
       "20    6.9438\n",
       "21    7.1560\n",
       "22    6.5341\n",
       "23    7.2854\n",
       "24    6.9952\n",
       "25    6.8568\n",
       "26    7.2163\n",
       "27    6.6801\n",
       "28    6.9431\n",
       "29    7.0852\n",
       "30    6.7794\n",
       "31    7.2783\n",
       "32    7.1561\n",
       "33    7.3943\n",
       "34    6.9405\n",
       "Name: Unit A, dtype: float64"
      ]
     },
     "execution_count": 123,
     "metadata": {},
     "output_type": "execute_result"
    }
   ],
   "source": [
    "UnitA=pd.Series(df.iloc[:,0])\n",
    "UnitA"
   ]
  },
  {
   "cell_type": "code",
   "execution_count": 124,
   "id": "bf011f0f",
   "metadata": {
    "ExecuteTime": {
     "end_time": "2023-07-09T15:51:05.856534Z",
     "start_time": "2023-07-09T15:51:05.849535Z"
    }
   },
   "outputs": [
    {
     "data": {
      "text/plain": [
       "0     6.7703\n",
       "1     7.5093\n",
       "2     6.7300\n",
       "3     6.7878\n",
       "4     7.1522\n",
       "5     6.8110\n",
       "6     7.2212\n",
       "7     6.6606\n",
       "8     7.2402\n",
       "9     7.0503\n",
       "10    6.8810\n",
       "11    7.4059\n",
       "12    6.7652\n",
       "13    6.0380\n",
       "14    7.1581\n",
       "15    7.0240\n",
       "16    6.6672\n",
       "17    7.4314\n",
       "18    7.3070\n",
       "19    6.7478\n",
       "20    6.8889\n",
       "21    7.4220\n",
       "22    6.5217\n",
       "23    7.1688\n",
       "24    6.7594\n",
       "25    6.9399\n",
       "26    7.0133\n",
       "27    6.9182\n",
       "28    6.3346\n",
       "29    7.5459\n",
       "30    7.0992\n",
       "31    7.1180\n",
       "32    6.6965\n",
       "33    6.5780\n",
       "34    7.3875\n",
       "Name: Unit B, dtype: float64"
      ]
     },
     "execution_count": 124,
     "metadata": {},
     "output_type": "execute_result"
    }
   ],
   "source": [
    "UnitB=pd.Series(df.iloc[:,1])\n",
    "UnitB"
   ]
  },
  {
   "cell_type": "code",
   "execution_count": 125,
   "id": "85ca0ec1",
   "metadata": {
    "ExecuteTime": {
     "end_time": "2023-07-09T15:51:06.734062Z",
     "start_time": "2023-07-09T15:51:06.726991Z"
    }
   },
   "outputs": [
    {
     "data": {
      "text/plain": [
       "(0.7228688704678063, 0.4722394724599501)"
      ]
     },
     "execution_count": 125,
     "metadata": {},
     "output_type": "execute_result"
    }
   ],
   "source": [
    "# 2-sample 2-tail ttest:   stats.ttest_ind(array1,array2)     # ind -> independent samples\n",
    "zvalue,p_value=stats.ttest_ind(UnitA,UnitB)\n",
    "zvalue,p_value"
   ]
  },
  {
   "cell_type": "code",
   "execution_count": 126,
   "id": "7093d8fa",
   "metadata": {
    "ExecuteTime": {
     "end_time": "2023-07-09T15:51:07.476002Z",
     "start_time": "2023-07-09T15:51:07.468005Z"
    }
   },
   "outputs": [
    {
     "data": {
      "text/plain": [
       "0.472"
      ]
     },
     "execution_count": 126,
     "metadata": {},
     "output_type": "execute_result"
    }
   ],
   "source": [
    "p_value.round(3)     # 2-tail probability "
   ]
  },
  {
   "cell_type": "code",
   "execution_count": 127,
   "id": "a674a008",
   "metadata": {
    "ExecuteTime": {
     "end_time": "2023-07-09T15:51:08.280231Z",
     "start_time": "2023-07-09T15:51:08.271139Z"
    }
   },
   "outputs": [
    {
     "name": "stdout",
     "output_type": "stream",
     "text": [
      "Reject Alternative hypothesis H1,and accept Null hypothesis H0\n"
     ]
    }
   ],
   "source": [
    "alpha=0.05\n",
    "if p_value<alpha:\n",
    "    print(\"Reject Null hypothesis H0,and accept Alternative hypothesis H1\")\n",
    "else:\n",
    "    print(\"Reject Alternative hypothesis H1,and accept Null hypothesis H0\")"
   ]
  },
  {
   "cell_type": "code",
   "execution_count": 128,
   "id": "8e1c5840",
   "metadata": {
    "ExecuteTime": {
     "end_time": "2023-07-09T15:51:09.195039Z",
     "start_time": "2023-07-09T15:51:09.183872Z"
    }
   },
   "outputs": [],
   "source": [
    "# compare p_value with α = 0.05 (At 5% significance level)\n",
    "#  p_value <0.05,reject null Hypothesis Ho and accept alternative Hypothesis H1.\n",
    "# there is no signigicant difference in dimeters of cutlets between two units"
   ]
  },
  {
   "cell_type": "raw",
   "id": "2d1314a4",
   "metadata": {},
   "source": [
    "Question2:)\n",
    "A hospital wants to determine whether there is any difference in the average Turn Around Time (TAT) of reports of the laboratories on their preferred list. They collected a random sample and recorded TAT for reports of 4 laboratories. TAT is defined as sample collected to report dispatch.\n",
    "   \n",
    "  Analyze the data and determine whether there is any difference in average TAT among the different laboratories at 5% significance level.\n"
   ]
  },
  {
   "cell_type": "raw",
   "id": "3fd8883d",
   "metadata": {},
   "source": [
    "Anova ftest statistics: analysis of variance between more than 2 samples or columns\n",
    "\n",
    "H0: all samples TAT population means are same\n",
    "H1: atleast one sample TAT populaton mean is different\n",
    "\n"
   ]
  },
  {
   "cell_type": "code",
   "execution_count": 129,
   "id": "9f82f670",
   "metadata": {
    "ExecuteTime": {
     "end_time": "2023-07-09T15:51:11.776388Z",
     "start_time": "2023-07-09T15:51:11.768374Z"
    }
   },
   "outputs": [],
   "source": [
    "import pandas as pd\n",
    "import numpy as np\n",
    "from scipy import stats\n",
    "from scipy.stats import norm"
   ]
  },
  {
   "cell_type": "code",
   "execution_count": 130,
   "id": "a5623948",
   "metadata": {
    "ExecuteTime": {
     "end_time": "2023-07-09T15:51:14.276689Z",
     "start_time": "2023-07-09T15:51:14.254239Z"
    }
   },
   "outputs": [
    {
     "data": {
      "text/html": [
       "<div>\n",
       "<style scoped>\n",
       "    .dataframe tbody tr th:only-of-type {\n",
       "        vertical-align: middle;\n",
       "    }\n",
       "\n",
       "    .dataframe tbody tr th {\n",
       "        vertical-align: top;\n",
       "    }\n",
       "\n",
       "    .dataframe thead th {\n",
       "        text-align: right;\n",
       "    }\n",
       "</style>\n",
       "<table border=\"1\" class=\"dataframe\">\n",
       "  <thead>\n",
       "    <tr style=\"text-align: right;\">\n",
       "      <th></th>\n",
       "      <th>Laboratory 1</th>\n",
       "      <th>Laboratory 2</th>\n",
       "      <th>Laboratory 3</th>\n",
       "      <th>Laboratory 4</th>\n",
       "    </tr>\n",
       "  </thead>\n",
       "  <tbody>\n",
       "    <tr>\n",
       "      <th>0</th>\n",
       "      <td>185.35</td>\n",
       "      <td>165.53</td>\n",
       "      <td>176.70</td>\n",
       "      <td>166.13</td>\n",
       "    </tr>\n",
       "    <tr>\n",
       "      <th>1</th>\n",
       "      <td>170.49</td>\n",
       "      <td>185.91</td>\n",
       "      <td>198.45</td>\n",
       "      <td>160.79</td>\n",
       "    </tr>\n",
       "    <tr>\n",
       "      <th>2</th>\n",
       "      <td>192.77</td>\n",
       "      <td>194.92</td>\n",
       "      <td>201.23</td>\n",
       "      <td>185.18</td>\n",
       "    </tr>\n",
       "    <tr>\n",
       "      <th>3</th>\n",
       "      <td>177.33</td>\n",
       "      <td>183.00</td>\n",
       "      <td>199.61</td>\n",
       "      <td>176.42</td>\n",
       "    </tr>\n",
       "    <tr>\n",
       "      <th>4</th>\n",
       "      <td>193.41</td>\n",
       "      <td>169.57</td>\n",
       "      <td>204.63</td>\n",
       "      <td>152.60</td>\n",
       "    </tr>\n",
       "    <tr>\n",
       "      <th>...</th>\n",
       "      <td>...</td>\n",
       "      <td>...</td>\n",
       "      <td>...</td>\n",
       "      <td>...</td>\n",
       "    </tr>\n",
       "    <tr>\n",
       "      <th>115</th>\n",
       "      <td>178.49</td>\n",
       "      <td>170.66</td>\n",
       "      <td>193.80</td>\n",
       "      <td>172.68</td>\n",
       "    </tr>\n",
       "    <tr>\n",
       "      <th>116</th>\n",
       "      <td>176.08</td>\n",
       "      <td>183.98</td>\n",
       "      <td>215.25</td>\n",
       "      <td>177.64</td>\n",
       "    </tr>\n",
       "    <tr>\n",
       "      <th>117</th>\n",
       "      <td>202.48</td>\n",
       "      <td>174.54</td>\n",
       "      <td>203.99</td>\n",
       "      <td>170.27</td>\n",
       "    </tr>\n",
       "    <tr>\n",
       "      <th>118</th>\n",
       "      <td>182.40</td>\n",
       "      <td>197.18</td>\n",
       "      <td>194.52</td>\n",
       "      <td>150.87</td>\n",
       "    </tr>\n",
       "    <tr>\n",
       "      <th>119</th>\n",
       "      <td>182.09</td>\n",
       "      <td>215.17</td>\n",
       "      <td>221.49</td>\n",
       "      <td>162.21</td>\n",
       "    </tr>\n",
       "  </tbody>\n",
       "</table>\n",
       "<p>120 rows × 4 columns</p>\n",
       "</div>"
      ],
      "text/plain": [
       "     Laboratory 1  Laboratory 2  Laboratory 3  Laboratory 4\n",
       "0          185.35        165.53        176.70        166.13\n",
       "1          170.49        185.91        198.45        160.79\n",
       "2          192.77        194.92        201.23        185.18\n",
       "3          177.33        183.00        199.61        176.42\n",
       "4          193.41        169.57        204.63        152.60\n",
       "..            ...           ...           ...           ...\n",
       "115        178.49        170.66        193.80        172.68\n",
       "116        176.08        183.98        215.25        177.64\n",
       "117        202.48        174.54        203.99        170.27\n",
       "118        182.40        197.18        194.52        150.87\n",
       "119        182.09        215.17        221.49        162.21\n",
       "\n",
       "[120 rows x 4 columns]"
      ]
     },
     "execution_count": 130,
     "metadata": {},
     "output_type": "execute_result"
    }
   ],
   "source": [
    "df1=pd.read_csv(\"LabTAT.csv\")\n",
    "df1"
   ]
  },
  {
   "cell_type": "code",
   "execution_count": 131,
   "id": "e1aa979d",
   "metadata": {
    "ExecuteTime": {
     "end_time": "2023-07-09T15:51:14.974137Z",
     "start_time": "2023-07-09T15:51:14.966223Z"
    }
   },
   "outputs": [
    {
     "data": {
      "text/plain": [
       "(118.70421654401437, 2.1156708949992414e-57)"
      ]
     },
     "execution_count": 131,
     "metadata": {},
     "output_type": "execute_result"
    }
   ],
   "source": [
    "zvalue,p_value=stats.f_oneway(df1.iloc[:,0],df1.iloc[:,1],df1.iloc[:,2],df1.iloc[:,3])\n",
    "zvalue,p_value"
   ]
  },
  {
   "cell_type": "code",
   "execution_count": 132,
   "id": "507a569a",
   "metadata": {
    "ExecuteTime": {
     "end_time": "2023-07-09T15:51:16.072902Z",
     "start_time": "2023-07-09T15:51:16.066866Z"
    }
   },
   "outputs": [
    {
     "data": {
      "text/plain": [
       "118.70421654401437"
      ]
     },
     "execution_count": 132,
     "metadata": {},
     "output_type": "execute_result"
    }
   ],
   "source": [
    "zvalue"
   ]
  },
  {
   "cell_type": "code",
   "execution_count": 133,
   "id": "4e901952",
   "metadata": {
    "ExecuteTime": {
     "end_time": "2023-07-09T15:51:17.099006Z",
     "start_time": "2023-07-09T15:51:17.090943Z"
    }
   },
   "outputs": [
    {
     "data": {
      "text/plain": [
       "2.1156708949992414e-57"
      ]
     },
     "execution_count": 133,
     "metadata": {},
     "output_type": "execute_result"
    }
   ],
   "source": [
    "p_value"
   ]
  },
  {
   "cell_type": "code",
   "execution_count": 134,
   "id": "131aeb84",
   "metadata": {
    "ExecuteTime": {
     "end_time": "2023-07-09T15:51:17.975128Z",
     "start_time": "2023-07-09T15:51:17.965119Z"
    }
   },
   "outputs": [
    {
     "name": "stdout",
     "output_type": "stream",
     "text": [
      "Reject Null hypothesis H0,and accept Alternative hypothesis H1\n"
     ]
    }
   ],
   "source": [
    "alpha=0.05\n",
    "if p_value<alpha:\n",
    "    print(\"Reject Null hypothesis H0,and accept Alternative hypothesis H1\")\n",
    "else:\n",
    "    print(\"Reject Alternative hypothesis H1,and accept Null hypothesis H0\")"
   ]
  },
  {
   "cell_type": "code",
   "execution_count": 135,
   "id": "cbd35840",
   "metadata": {
    "ExecuteTime": {
     "end_time": "2023-07-09T15:51:18.825145Z",
     "start_time": "2023-07-09T15:51:18.813150Z"
    }
   },
   "outputs": [],
   "source": [
    "# atleast one sample TAT populaton mean is different"
   ]
  },
  {
   "cell_type": "raw",
   "id": "e6ee392b",
   "metadata": {},
   "source": [
    "Question3:)      \n",
    "Sales of products in four different regions is tabulated for males and females. Find if male-female buyer rations are similar across regions.\n"
   ]
  },
  {
   "cell_type": "raw",
   "id": "f328ba25",
   "metadata": {},
   "source": [
    "H0: All proportions are equal\n",
    "H1:Not all Proportions are equal"
   ]
  },
  {
   "cell_type": "code",
   "execution_count": 152,
   "id": "83a21938",
   "metadata": {
    "ExecuteTime": {
     "end_time": "2023-07-09T15:52:16.372167Z",
     "start_time": "2023-07-09T15:52:16.364113Z"
    }
   },
   "outputs": [],
   "source": [
    "import pandas as pd\n",
    "from scipy import stats\n",
    "from scipy.stats import norm\n",
    "from scipy.stats import chi2\n",
    "import numpy as np\n",
    "import scipy as sn"
   ]
  },
  {
   "cell_type": "code",
   "execution_count": 153,
   "id": "b6d22690",
   "metadata": {
    "ExecuteTime": {
     "end_time": "2023-07-09T15:52:17.507734Z",
     "start_time": "2023-07-09T15:52:17.499733Z"
    }
   },
   "outputs": [],
   "source": [
    "buyer=pd.read_csv(\"BuyerRatio.csv\")"
   ]
  },
  {
   "cell_type": "code",
   "execution_count": 138,
   "id": "14829c5e",
   "metadata": {
    "ExecuteTime": {
     "end_time": "2023-07-09T15:51:26.724095Z",
     "start_time": "2023-07-09T15:51:26.716095Z"
    }
   },
   "outputs": [
    {
     "data": {
      "text/html": [
       "<div>\n",
       "<style scoped>\n",
       "    .dataframe tbody tr th:only-of-type {\n",
       "        vertical-align: middle;\n",
       "    }\n",
       "\n",
       "    .dataframe tbody tr th {\n",
       "        vertical-align: top;\n",
       "    }\n",
       "\n",
       "    .dataframe thead th {\n",
       "        text-align: right;\n",
       "    }\n",
       "</style>\n",
       "<table border=\"1\" class=\"dataframe\">\n",
       "  <thead>\n",
       "    <tr style=\"text-align: right;\">\n",
       "      <th></th>\n",
       "      <th>Observed Values</th>\n",
       "      <th>East</th>\n",
       "      <th>West</th>\n",
       "      <th>North</th>\n",
       "      <th>South</th>\n",
       "    </tr>\n",
       "  </thead>\n",
       "  <tbody>\n",
       "    <tr>\n",
       "      <th>0</th>\n",
       "      <td>Males</td>\n",
       "      <td>50</td>\n",
       "      <td>142</td>\n",
       "      <td>131</td>\n",
       "      <td>70</td>\n",
       "    </tr>\n",
       "    <tr>\n",
       "      <th>1</th>\n",
       "      <td>Females</td>\n",
       "      <td>435</td>\n",
       "      <td>1523</td>\n",
       "      <td>1356</td>\n",
       "      <td>750</td>\n",
       "    </tr>\n",
       "  </tbody>\n",
       "</table>\n",
       "</div>"
      ],
      "text/plain": [
       "  Observed Values  East  West  North  South\n",
       "0           Males    50   142    131     70\n",
       "1         Females   435  1523   1356    750"
      ]
     },
     "execution_count": 138,
     "metadata": {},
     "output_type": "execute_result"
    }
   ],
   "source": [
    "buyer"
   ]
  },
  {
   "cell_type": "code",
   "execution_count": 139,
   "id": "3e583d4c",
   "metadata": {
    "ExecuteTime": {
     "end_time": "2023-07-09T15:51:27.608100Z",
     "start_time": "2023-07-09T15:51:27.584745Z"
    }
   },
   "outputs": [
    {
     "data": {
      "text/html": [
       "<div>\n",
       "<style scoped>\n",
       "    .dataframe tbody tr th:only-of-type {\n",
       "        vertical-align: middle;\n",
       "    }\n",
       "\n",
       "    .dataframe tbody tr th {\n",
       "        vertical-align: top;\n",
       "    }\n",
       "\n",
       "    .dataframe thead th {\n",
       "        text-align: right;\n",
       "    }\n",
       "</style>\n",
       "<table border=\"1\" class=\"dataframe\">\n",
       "  <thead>\n",
       "    <tr style=\"text-align: right;\">\n",
       "      <th></th>\n",
       "      <th>East</th>\n",
       "      <th>West</th>\n",
       "      <th>North</th>\n",
       "      <th>South</th>\n",
       "    </tr>\n",
       "  </thead>\n",
       "  <tbody>\n",
       "    <tr>\n",
       "      <th>0</th>\n",
       "      <td>50</td>\n",
       "      <td>142</td>\n",
       "      <td>131</td>\n",
       "      <td>70</td>\n",
       "    </tr>\n",
       "    <tr>\n",
       "      <th>1</th>\n",
       "      <td>435</td>\n",
       "      <td>1523</td>\n",
       "      <td>1356</td>\n",
       "      <td>750</td>\n",
       "    </tr>\n",
       "  </tbody>\n",
       "</table>\n",
       "</div>"
      ],
      "text/plain": [
       "   East  West  North  South\n",
       "0    50   142    131     70\n",
       "1   435  1523   1356    750"
      ]
     },
     "execution_count": 139,
     "metadata": {},
     "output_type": "execute_result"
    }
   ],
   "source": [
    "\n",
    "buyer_df=buyer.iloc[:,1:]\n",
    "buyer_df"
   ]
  },
  {
   "cell_type": "code",
   "execution_count": 140,
   "id": "e3f92c9b",
   "metadata": {
    "ExecuteTime": {
     "end_time": "2023-07-09T15:51:28.591845Z",
     "start_time": "2023-07-09T15:51:28.582834Z"
    }
   },
   "outputs": [
    {
     "data": {
      "text/plain": [
       "array([[  50,  142,  131,   70],\n",
       "       [ 435, 1523, 1356,  750]], dtype=int64)"
      ]
     },
     "execution_count": 140,
     "metadata": {},
     "output_type": "execute_result"
    }
   ],
   "source": [
    "buyer_df.values\n"
   ]
  },
  {
   "cell_type": "code",
   "execution_count": 141,
   "id": "04bde237",
   "metadata": {
    "ExecuteTime": {
     "end_time": "2023-07-09T15:51:29.490732Z",
     "start_time": "2023-07-09T15:51:29.481715Z"
    }
   },
   "outputs": [
    {
     "data": {
      "text/plain": [
       "Chi2ContingencyResult(statistic=1.595945538661058, pvalue=0.6603094907091882, dof=3, expected_freq=array([[  42.76531299,  146.81287862,  131.11756787,   72.30424052],\n",
       "       [ 442.23468701, 1518.18712138, 1355.88243213,  747.69575948]]))"
      ]
     },
     "execution_count": 141,
     "metadata": {},
     "output_type": "execute_result"
    }
   ],
   "source": [
    "val=stats.chi2_contingency(buyer_df)\n",
    "val"
   ]
  },
  {
   "cell_type": "code",
   "execution_count": 142,
   "id": "edd091ce",
   "metadata": {
    "ExecuteTime": {
     "end_time": "2023-07-09T15:51:30.957984Z",
     "start_time": "2023-07-09T15:51:30.949929Z"
    }
   },
   "outputs": [
    {
     "data": {
      "text/plain": [
       "1.595945538661058"
      ]
     },
     "execution_count": 142,
     "metadata": {},
     "output_type": "execute_result"
    }
   ],
   "source": [
    "val[0]"
   ]
  },
  {
   "cell_type": "code",
   "execution_count": 143,
   "id": "bc11be71",
   "metadata": {
    "ExecuteTime": {
     "end_time": "2023-07-09T15:51:32.061915Z",
     "start_time": "2023-07-09T15:51:32.053840Z"
    }
   },
   "outputs": [
    {
     "name": "stdout",
     "output_type": "stream",
     "text": [
      "degree of freedom= 3\n"
     ]
    }
   ],
   "source": [
    "rows=len(buyer_df.iloc[0:2,0])\n",
    "columns=len(buyer_df.iloc[0,0:4])\n",
    "dof=(rows-1)*(columns-1)\n",
    "print('degree of freedom=',dof)"
   ]
  },
  {
   "cell_type": "code",
   "execution_count": 144,
   "id": "46e37c59",
   "metadata": {
    "ExecuteTime": {
     "end_time": "2023-07-09T15:51:32.898877Z",
     "start_time": "2023-07-09T15:51:32.890795Z"
    }
   },
   "outputs": [
    {
     "data": {
      "text/plain": [
       "array([[  42.76531299,  146.81287862,  131.11756787,   72.30424052],\n",
       "       [ 442.23468701, 1518.18712138, 1355.88243213,  747.69575948]])"
      ]
     },
     "execution_count": 144,
     "metadata": {},
     "output_type": "execute_result"
    }
   ],
   "source": [
    "expected_value=val[3]\n",
    "expected_value\n",
    "     "
   ]
  },
  {
   "cell_type": "code",
   "execution_count": 145,
   "id": "6ed8cb17",
   "metadata": {
    "ExecuteTime": {
     "end_time": "2023-07-09T15:51:33.790485Z",
     "start_time": "2023-07-09T15:51:33.783442Z"
    }
   },
   "outputs": [],
   "source": [
    "chi2=sum([(o-e)**2/e for o,e in zip(buyer_df.values,expected_value)])"
   ]
  },
  {
   "cell_type": "code",
   "execution_count": 146,
   "id": "368da3a5",
   "metadata": {
    "ExecuteTime": {
     "end_time": "2023-07-09T15:51:38.749325Z",
     "start_time": "2023-07-09T15:51:38.743251Z"
    }
   },
   "outputs": [
    {
     "data": {
      "text/plain": [
       "1.5152956451130446"
      ]
     },
     "execution_count": 146,
     "metadata": {},
     "output_type": "execute_result"
    }
   ],
   "source": [
    "chi2_stat=chi2[0]+chi2[1]\n",
    "chi2_stat"
   ]
  },
  {
   "cell_type": "code",
   "execution_count": 154,
   "id": "d3538cfd",
   "metadata": {
    "ExecuteTime": {
     "end_time": "2023-07-09T15:52:30.426102Z",
     "start_time": "2023-07-09T15:52:30.419024Z"
    }
   },
   "outputs": [
    {
     "data": {
      "text/plain": [
       "7.814727903251179"
      ]
     },
     "execution_count": 154,
     "metadata": {},
     "output_type": "execute_result"
    }
   ],
   "source": [
    "critical_value=chi2.ppf(0.95,3)\n",
    "critical_value"
   ]
  },
  {
   "cell_type": "code",
   "execution_count": 161,
   "id": "afb5f662",
   "metadata": {
    "ExecuteTime": {
     "end_time": "2023-07-09T15:56:17.164319Z",
     "start_time": "2023-07-09T15:56:17.157404Z"
    }
   },
   "outputs": [
    {
     "data": {
      "text/plain": [
       "0.6787446296467897"
      ]
     },
     "execution_count": 161,
     "metadata": {},
     "output_type": "execute_result"
    }
   ],
   "source": [
    "p_value=1-chi2.cdf(chi2_stat,3)\n",
    "p_value"
   ]
  },
  {
   "cell_type": "code",
   "execution_count": 162,
   "id": "fe2f1939",
   "metadata": {
    "ExecuteTime": {
     "end_time": "2023-07-09T15:56:18.488521Z",
     "start_time": "2023-07-09T15:56:18.480450Z"
    }
   },
   "outputs": [
    {
     "name": "stdout",
     "output_type": "stream",
     "text": [
      "Reject Alternative hypothesis H1,and accept Null hypothesis H0\n"
     ]
    }
   ],
   "source": [
    "alpha=0.05\n",
    "if p_value<alpha:\n",
    "    print(\"Reject Null hypothesis H0,and accept Alternative hypothesis H1\")\n",
    "else:\n",
    "    print(\"Reject Alternative hypothesis H1,and accept Null hypothesis H0\")"
   ]
  },
  {
   "cell_type": "code",
   "execution_count": 163,
   "id": "c6a60518",
   "metadata": {
    "ExecuteTime": {
     "end_time": "2023-07-09T15:58:38.791350Z",
     "start_time": "2023-07-09T15:58:38.785351Z"
    }
   },
   "outputs": [],
   "source": [
    "#as p_value is greater than 0.05\n",
    "#accept null-hypothesis\n",
    "#all Proportions are equal"
   ]
  },
  {
   "cell_type": "raw",
   "id": "0bffb5e5",
   "metadata": {},
   "source": [
    "Question4:)\n",
    "TeleCall uses 4 centers around the globe to process customer order forms. They audit a certain %  of the customer order forms. Any error in order form renders it defective and has to be reworked before processing.  The manager wants to check whether the defective %  varies by centre. Please analyze the data at 5% significance level and help the manager draw appropriate inferences\n"
   ]
  },
  {
   "cell_type": "code",
   "execution_count": 164,
   "id": "3df5c20b",
   "metadata": {
    "ExecuteTime": {
     "end_time": "2023-07-09T15:58:41.675342Z",
     "start_time": "2023-07-09T15:58:41.667268Z"
    }
   },
   "outputs": [],
   "source": [
    "import pandas as pd\n",
    "import numpy as np\n",
    "from scipy import stats\n",
    "from scipy.stats import norm\n",
    "from scipy.stats import chi2_contingency"
   ]
  },
  {
   "cell_type": "code",
   "execution_count": 165,
   "id": "b56ee79a",
   "metadata": {
    "ExecuteTime": {
     "end_time": "2023-07-09T15:58:42.422550Z",
     "start_time": "2023-07-09T15:58:42.413551Z"
    }
   },
   "outputs": [],
   "source": [
    "costomer=pd.read_csv(\"Costomer+OrderForm (2).csv\")"
   ]
  },
  {
   "cell_type": "code",
   "execution_count": 166,
   "id": "44da9a15",
   "metadata": {
    "ExecuteTime": {
     "end_time": "2023-07-09T15:58:43.311486Z",
     "start_time": "2023-07-09T15:58:43.303529Z"
    }
   },
   "outputs": [
    {
     "data": {
      "text/html": [
       "<div>\n",
       "<style scoped>\n",
       "    .dataframe tbody tr th:only-of-type {\n",
       "        vertical-align: middle;\n",
       "    }\n",
       "\n",
       "    .dataframe tbody tr th {\n",
       "        vertical-align: top;\n",
       "    }\n",
       "\n",
       "    .dataframe thead th {\n",
       "        text-align: right;\n",
       "    }\n",
       "</style>\n",
       "<table border=\"1\" class=\"dataframe\">\n",
       "  <thead>\n",
       "    <tr style=\"text-align: right;\">\n",
       "      <th></th>\n",
       "      <th>Phillippines</th>\n",
       "      <th>Indonesia</th>\n",
       "      <th>Malta</th>\n",
       "      <th>India</th>\n",
       "    </tr>\n",
       "  </thead>\n",
       "  <tbody>\n",
       "    <tr>\n",
       "      <th>0</th>\n",
       "      <td>Error Free</td>\n",
       "      <td>Error Free</td>\n",
       "      <td>Defective</td>\n",
       "      <td>Error Free</td>\n",
       "    </tr>\n",
       "    <tr>\n",
       "      <th>1</th>\n",
       "      <td>Error Free</td>\n",
       "      <td>Error Free</td>\n",
       "      <td>Error Free</td>\n",
       "      <td>Defective</td>\n",
       "    </tr>\n",
       "    <tr>\n",
       "      <th>2</th>\n",
       "      <td>Error Free</td>\n",
       "      <td>Defective</td>\n",
       "      <td>Defective</td>\n",
       "      <td>Error Free</td>\n",
       "    </tr>\n",
       "    <tr>\n",
       "      <th>3</th>\n",
       "      <td>Error Free</td>\n",
       "      <td>Error Free</td>\n",
       "      <td>Error Free</td>\n",
       "      <td>Error Free</td>\n",
       "    </tr>\n",
       "    <tr>\n",
       "      <th>4</th>\n",
       "      <td>Error Free</td>\n",
       "      <td>Error Free</td>\n",
       "      <td>Defective</td>\n",
       "      <td>Error Free</td>\n",
       "    </tr>\n",
       "    <tr>\n",
       "      <th>...</th>\n",
       "      <td>...</td>\n",
       "      <td>...</td>\n",
       "      <td>...</td>\n",
       "      <td>...</td>\n",
       "    </tr>\n",
       "    <tr>\n",
       "      <th>295</th>\n",
       "      <td>Error Free</td>\n",
       "      <td>Error Free</td>\n",
       "      <td>Error Free</td>\n",
       "      <td>Error Free</td>\n",
       "    </tr>\n",
       "    <tr>\n",
       "      <th>296</th>\n",
       "      <td>Error Free</td>\n",
       "      <td>Error Free</td>\n",
       "      <td>Error Free</td>\n",
       "      <td>Error Free</td>\n",
       "    </tr>\n",
       "    <tr>\n",
       "      <th>297</th>\n",
       "      <td>Error Free</td>\n",
       "      <td>Error Free</td>\n",
       "      <td>Defective</td>\n",
       "      <td>Error Free</td>\n",
       "    </tr>\n",
       "    <tr>\n",
       "      <th>298</th>\n",
       "      <td>Error Free</td>\n",
       "      <td>Error Free</td>\n",
       "      <td>Error Free</td>\n",
       "      <td>Error Free</td>\n",
       "    </tr>\n",
       "    <tr>\n",
       "      <th>299</th>\n",
       "      <td>Error Free</td>\n",
       "      <td>Defective</td>\n",
       "      <td>Defective</td>\n",
       "      <td>Error Free</td>\n",
       "    </tr>\n",
       "  </tbody>\n",
       "</table>\n",
       "<p>300 rows × 4 columns</p>\n",
       "</div>"
      ],
      "text/plain": [
       "    Phillippines   Indonesia       Malta       India\n",
       "0     Error Free  Error Free   Defective  Error Free\n",
       "1     Error Free  Error Free  Error Free   Defective\n",
       "2     Error Free   Defective   Defective  Error Free\n",
       "3     Error Free  Error Free  Error Free  Error Free\n",
       "4     Error Free  Error Free   Defective  Error Free\n",
       "..           ...         ...         ...         ...\n",
       "295   Error Free  Error Free  Error Free  Error Free\n",
       "296   Error Free  Error Free  Error Free  Error Free\n",
       "297   Error Free  Error Free   Defective  Error Free\n",
       "298   Error Free  Error Free  Error Free  Error Free\n",
       "299   Error Free   Defective   Defective  Error Free\n",
       "\n",
       "[300 rows x 4 columns]"
      ]
     },
     "execution_count": 166,
     "metadata": {},
     "output_type": "execute_result"
    }
   ],
   "source": [
    "costomer"
   ]
  },
  {
   "cell_type": "code",
   "execution_count": 169,
   "id": "b9cca57c",
   "metadata": {
    "ExecuteTime": {
     "end_time": "2023-07-09T15:58:57.277936Z",
     "start_time": "2023-07-09T15:58:57.266959Z"
    }
   },
   "outputs": [
    {
     "data": {
      "text/plain": [
       "Error Free    271\n",
       "Defective      29\n",
       "Name: Phillippines, dtype: int64"
      ]
     },
     "execution_count": 169,
     "metadata": {},
     "output_type": "execute_result"
    }
   ],
   "source": [
    "costomer.Phillippines.value_counts()"
   ]
  },
  {
   "cell_type": "code",
   "execution_count": 170,
   "id": "13bb7ec4",
   "metadata": {
    "ExecuteTime": {
     "end_time": "2023-07-09T15:58:57.901140Z",
     "start_time": "2023-07-09T15:58:57.893632Z"
    }
   },
   "outputs": [
    {
     "data": {
      "text/plain": [
       "Error Free    267\n",
       "Defective      33\n",
       "Name: Indonesia, dtype: int64"
      ]
     },
     "execution_count": 170,
     "metadata": {},
     "output_type": "execute_result"
    }
   ],
   "source": [
    "costomer.Indonesia.value_counts()"
   ]
  },
  {
   "cell_type": "code",
   "execution_count": 171,
   "id": "906011d2",
   "metadata": {
    "ExecuteTime": {
     "end_time": "2023-07-09T15:58:58.522374Z",
     "start_time": "2023-07-09T15:58:58.515279Z"
    }
   },
   "outputs": [
    {
     "data": {
      "text/plain": [
       "Error Free    269\n",
       "Defective      31\n",
       "Name: Malta, dtype: int64"
      ]
     },
     "execution_count": 171,
     "metadata": {},
     "output_type": "execute_result"
    }
   ],
   "source": [
    "costomer.Malta.value_counts()"
   ]
  },
  {
   "cell_type": "code",
   "execution_count": 172,
   "id": "3839ee4e",
   "metadata": {
    "ExecuteTime": {
     "end_time": "2023-07-09T15:58:59.096554Z",
     "start_time": "2023-07-09T15:58:59.087551Z"
    }
   },
   "outputs": [
    {
     "data": {
      "text/plain": [
       "Error Free    280\n",
       "Defective      20\n",
       "Name: India, dtype: int64"
      ]
     },
     "execution_count": 172,
     "metadata": {},
     "output_type": "execute_result"
    }
   ],
   "source": [
    "costomer.India.value_counts()\n",
    "     "
   ]
  },
  {
   "cell_type": "code",
   "execution_count": 173,
   "id": "95d3655c",
   "metadata": {
    "ExecuteTime": {
     "end_time": "2023-07-09T15:58:59.791970Z",
     "start_time": "2023-07-09T15:58:59.784011Z"
    }
   },
   "outputs": [
    {
     "data": {
      "text/plain": [
       "array([[271, 267, 269, 280],\n",
       "       [ 29,  33,  31,  20]])"
      ]
     },
     "execution_count": 173,
     "metadata": {},
     "output_type": "execute_result"
    }
   ],
   "source": [
    "costomer1=np.array([[271,267,269,280],[29,33,31,20]])\n",
    "costomer1\n",
    "     "
   ]
  },
  {
   "cell_type": "code",
   "execution_count": 174,
   "id": "fb00bd27",
   "metadata": {
    "ExecuteTime": {
     "end_time": "2023-07-09T15:59:00.491358Z",
     "start_time": "2023-07-09T15:59:00.484318Z"
    }
   },
   "outputs": [
    {
     "data": {
      "text/plain": [
       "Chi2ContingencyResult(statistic=3.858960685820355, pvalue=0.2771020991233135, dof=3, expected_freq=array([[271.75, 271.75, 271.75, 271.75],\n",
       "       [ 28.25,  28.25,  28.25,  28.25]]))"
      ]
     },
     "execution_count": 174,
     "metadata": {},
     "output_type": "execute_result"
    }
   ],
   "source": [
    "values=chi2_contingency(costomer1)\n",
    "values    "
   ]
  },
  {
   "cell_type": "code",
   "execution_count": 175,
   "id": "2bbd3248",
   "metadata": {
    "ExecuteTime": {
     "end_time": "2023-07-09T15:59:01.395733Z",
     "start_time": "2023-07-09T15:59:01.384651Z"
    }
   },
   "outputs": [
    {
     "name": "stdout",
     "output_type": "stream",
     "text": [
      "Degrees of freedom: 3\n"
     ]
    }
   ],
   "source": [
    "dof=values[2]\n",
    "print(\"Degrees of freedom:\",dof)"
   ]
  },
  {
   "cell_type": "code",
   "execution_count": 176,
   "id": "039b5586",
   "metadata": {
    "ExecuteTime": {
     "end_time": "2023-07-09T15:59:02.311786Z",
     "start_time": "2023-07-09T15:59:02.305786Z"
    }
   },
   "outputs": [
    {
     "data": {
      "text/plain": [
       "array([[271.75, 271.75, 271.75, 271.75],\n",
       "       [ 28.25,  28.25,  28.25,  28.25]])"
      ]
     },
     "execution_count": 176,
     "metadata": {},
     "output_type": "execute_result"
    }
   ],
   "source": [
    "expected_frequency=values[3]\n",
    "expected_frequency"
   ]
  },
  {
   "cell_type": "code",
   "execution_count": 177,
   "id": "ef4de0e8",
   "metadata": {
    "ExecuteTime": {
     "end_time": "2023-07-09T15:59:04.103496Z",
     "start_time": "2023-07-09T15:59:04.095497Z"
    }
   },
   "outputs": [
    {
     "data": {
      "text/plain": [
       "0.2771020991233135"
      ]
     },
     "execution_count": 177,
     "metadata": {},
     "output_type": "execute_result"
    }
   ],
   "source": [
    "p_value=values[1]\n",
    "p_value"
   ]
  },
  {
   "cell_type": "code",
   "execution_count": 178,
   "id": "57d910ab",
   "metadata": {
    "ExecuteTime": {
     "end_time": "2023-07-09T15:59:06.442356Z",
     "start_time": "2023-07-09T15:59:06.435324Z"
    }
   },
   "outputs": [
    {
     "name": "stdout",
     "output_type": "stream",
     "text": [
      "Reject Alternative hypothesis H1,and accept Null hypothesis H0\n"
     ]
    }
   ],
   "source": [
    "alpha=0.05\n",
    "if p_value<alpha:\n",
    "    print(\"Reject Null hypothesis H0,and accept Alternative hypothesis H1\")\n",
    "else:\n",
    "    print(\"Reject Alternative hypothesis H1,and accept Null hypothesis H0\")"
   ]
  },
  {
   "cell_type": "code",
   "execution_count": 179,
   "id": "7cd595c3",
   "metadata": {
    "ExecuteTime": {
     "end_time": "2023-07-09T16:02:03.782912Z",
     "start_time": "2023-07-09T16:02:03.771910Z"
    }
   },
   "outputs": [],
   "source": [
    "#as p_value is greater than 0.05\n",
    "## then reject H1, accept H0\n",
    "     "
   ]
  },
  {
   "cell_type": "code",
   "execution_count": null,
   "id": "5a84136c",
   "metadata": {},
   "outputs": [],
   "source": []
  }
 ],
 "metadata": {
  "kernelspec": {
   "display_name": "Python 3 (ipykernel)",
   "language": "python",
   "name": "python3"
  },
  "language_info": {
   "codemirror_mode": {
    "name": "ipython",
    "version": 3
   },
   "file_extension": ".py",
   "mimetype": "text/x-python",
   "name": "python",
   "nbconvert_exporter": "python",
   "pygments_lexer": "ipython3",
   "version": "3.10.9"
  }
 },
 "nbformat": 4,
 "nbformat_minor": 5
}
